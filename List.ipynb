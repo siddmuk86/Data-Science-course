{
 "cells": [
  {
   "cell_type": "markdown",
   "id": "38dd4637-65d5-4b9c-973d-bb06aa0ee357",
   "metadata": {},
   "source": [
    "### How to create hyperlink in notebook?\n",
    "\n",
    "[Github](https://github.com/siddmuk86/Data-Science-course)"
   ]
  },
  {
   "cell_type": "code",
   "execution_count": 3,
   "id": "143c9de4-0ef6-475c-885a-c859aff7dd95",
   "metadata": {},
   "outputs": [
    {
     "data": {
      "text/plain": [
       "['Michael Jackson', 10.1, 1982]"
      ]
     },
     "execution_count": 3,
     "metadata": {},
     "output_type": "execute_result"
    }
   ],
   "source": [
    "# Create a list\n",
    "\n",
    "L = [\"Michael Jackson\", 10.1, 1982]\n",
    "L"
   ]
  },
  {
   "cell_type": "code",
   "execution_count": 6,
   "id": "ad87fe8a-531c-4ea1-b94d-8daf4e5b24d1",
   "metadata": {},
   "outputs": [
    {
     "name": "stdout",
     "output_type": "stream",
     "text": [
      "Michael Jackson\n",
      "1982\n",
      "10.1\n"
     ]
    }
   ],
   "source": [
    "# Using postive and negative indexing\n",
    "\n",
    "print(L[0])\n",
    "print(L[-1])\n",
    "print(L[-2])"
   ]
  },
  {
   "cell_type": "code",
   "execution_count": 7,
   "id": "7cce5b33-9fa3-4964-b458-63c2d51603fc",
   "metadata": {},
   "outputs": [
    {
     "data": {
      "text/plain": [
       "['Michael Jackson', 10.1, 1982, 'MJ', 1]"
      ]
     },
     "execution_count": 7,
     "metadata": {},
     "output_type": "execute_result"
    }
   ],
   "source": [
    "# Create a new sample list\n",
    "\n",
    "L1 = ['Michael Jackson', 10.1,1982,'MJ',1]\n",
    "L1"
   ]
  },
  {
   "cell_type": "code",
   "execution_count": 8,
   "id": "1259e64a-a071-4bde-8013-234c424500ba",
   "metadata": {},
   "outputs": [
    {
     "data": {
      "text/plain": [
       "['MJ', 1]"
      ]
     },
     "execution_count": 8,
     "metadata": {},
     "output_type": "execute_result"
    }
   ],
   "source": [
    "L1[3:5]"
   ]
  },
  {
   "cell_type": "code",
   "execution_count": 9,
   "id": "b3533e6f-8c41-4ce2-bad1-2e0df98a3f6c",
   "metadata": {},
   "outputs": [
    {
     "data": {
      "text/plain": [
       "['Michael Jackson', 10.1, 1982, 'MJ', 1, 'pop', 10]"
      ]
     },
     "execution_count": 9,
     "metadata": {},
     "output_type": "execute_result"
    }
   ],
   "source": [
    "# Use extend to add elements to the list\n",
    "\n",
    "L1.extend(['pop',10])\n",
    "L1"
   ]
  },
  {
   "cell_type": "code",
   "execution_count": 12,
   "id": "1a17c195-65c6-49bf-bcaf-31ee5256e67f",
   "metadata": {},
   "outputs": [
    {
     "data": {
      "text/plain": [
       "['Michael Jackson', 10.1, 1982, 'MJ', 1, 'pop', 10, ['pop', 10], ['pop', 10]]"
      ]
     },
     "execution_count": 12,
     "metadata": {},
     "output_type": "execute_result"
    }
   ],
   "source": [
    "# Use append to add elements to the list\n",
    "\n",
    "L1.append(['pop',10])\n",
    "L1"
   ]
  },
  {
   "cell_type": "code",
   "execution_count": 19,
   "id": "16d47717-097f-443d-988a-a78b8e116efa",
   "metadata": {},
   "outputs": [
    {
     "data": {
      "text/plain": [
       "['Janet', 10.1, 1982, 'MJ', 1]"
      ]
     },
     "execution_count": 19,
     "metadata": {},
     "output_type": "execute_result"
    }
   ],
   "source": [
    "# How to delete elements based on index\n",
    "\n",
    "del(L1[-1])\n",
    "L1"
   ]
  },
  {
   "cell_type": "code",
   "execution_count": 18,
   "id": "bd1cc0a3-4bc9-4bd7-95cd-209d120ab348",
   "metadata": {},
   "outputs": [
    {
     "data": {
      "text/plain": [
       "['Janet', 10.1, 1982, 'MJ', 1, 'pop']"
      ]
     },
     "execution_count": 18,
     "metadata": {},
     "output_type": "execute_result"
    }
   ],
   "source": [
    "# Replacing name in a particular index\n",
    "\n",
    "L1[0] = 'Janet'\n",
    "L1"
   ]
  },
  {
   "cell_type": "code",
   "execution_count": 20,
   "id": "2af6fbb7-8228-401d-9333-5f09112c0e79",
   "metadata": {},
   "outputs": [
    {
     "data": {
      "text/plain": [
       "['Janet', 10.1, 1982, 'MJ', 1, 'mars', 1]"
      ]
     },
     "execution_count": 20,
     "metadata": {},
     "output_type": "execute_result"
    }
   ],
   "source": [
    "L1.extend(['mars',1])\n",
    "L1"
   ]
  },
  {
   "cell_type": "code",
   "execution_count": 24,
   "id": "c9da6bbe-1400-4e85-a1d7-8c168cfd7699",
   "metadata": {},
   "outputs": [
    {
     "data": {
      "text/plain": [
       "['1', 'Mars']"
      ]
     },
     "execution_count": 24,
     "metadata": {},
     "output_type": "execute_result"
    }
   ],
   "source": [
    "# Split a string\n",
    "\n",
    "'1 Mars'.split()"
   ]
  },
  {
   "cell_type": "code",
   "execution_count": 26,
   "id": "4e663b3d-90dc-49ed-b959-4873595afb8f",
   "metadata": {},
   "outputs": [
    {
     "data": {
      "text/plain": [
       "['A', 'B', 'C', 'D']"
      ]
     },
     "execution_count": 26,
     "metadata": {},
     "output_type": "execute_result"
    }
   ],
   "source": [
    "# Split a string by a comma\n",
    "\n",
    "'A,B,C,D'.split(',')"
   ]
  },
  {
   "cell_type": "code",
   "execution_count": 27,
   "id": "200f86c3-f17d-4cdf-9cf4-c32b13fa7d6e",
   "metadata": {},
   "outputs": [
    {
     "name": "stdout",
     "output_type": "stream",
     "text": [
      "A: ['hard rock', 10, 1.2]\n",
      "B: ['hard rock', 10, 1.2]\n"
     ]
    }
   ],
   "source": [
    "# Copy (copy by reference) the list A\n",
    "\n",
    "A = [\"hard rock\", 10, 1.2]\n",
    "B = A\n",
    "print('A:', A)\n",
    "print('B:', B)"
   ]
  },
  {
   "cell_type": "code",
   "execution_count": 28,
   "id": "c557dc20-2f0a-4e4d-8279-6de49ac79929",
   "metadata": {},
   "outputs": [
    {
     "name": "stdout",
     "output_type": "stream",
     "text": [
      "B[0]: hard rock\n",
      "B[0]: banana\n"
     ]
    }
   ],
   "source": [
    "# Examine the copy by reference\n",
    "\n",
    "print('B[0]:', B[0])\n",
    "A[0] = \"banana\"\n",
    "print('B[0]:', B[0])"
   ]
  },
  {
   "cell_type": "code",
   "execution_count": 30,
   "id": "fceddd02-9ffc-4d25-a16e-847a91dfbf23",
   "metadata": {},
   "outputs": [
    {
     "data": {
      "text/plain": [
       "['banana', 10, 1.2]"
      ]
     },
     "execution_count": 30,
     "metadata": {},
     "output_type": "execute_result"
    }
   ],
   "source": [
    "# Clone (clone by value) the list A\n",
    "\n",
    "B = A[:]\n",
    "B  # B is the new clone or copy of the original list "
   ]
  },
  {
   "cell_type": "code",
   "execution_count": null,
   "id": "415e5ba8-9367-4fc5-bd56-6bea6a4e8ac0",
   "metadata": {},
   "outputs": [],
   "source": []
  },
  {
   "cell_type": "code",
   "execution_count": null,
   "id": "239744d0-93e4-4596-9ee9-34617fda0626",
   "metadata": {},
   "outputs": [],
   "source": []
  }
 ],
 "metadata": {
  "kernelspec": {
   "display_name": "Python",
   "language": "python",
   "name": "conda-env-python-py"
  },
  "language_info": {
   "codemirror_mode": {
    "name": "ipython",
    "version": 3
   },
   "file_extension": ".py",
   "mimetype": "text/x-python",
   "name": "python",
   "nbconvert_exporter": "python",
   "pygments_lexer": "ipython3",
   "version": "3.6.13"
  }
 },
 "nbformat": 4,
 "nbformat_minor": 5
}
