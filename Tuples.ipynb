{
 "cells": [
  {
   "cell_type": "code",
   "execution_count": 3,
   "id": "e36a74c6-b2d1-48c5-b40b-e3a4cc6d08ba",
   "metadata": {},
   "outputs": [
    {
     "data": {
      "text/plain": [
       "('disco', 10, 1.2)"
      ]
     },
     "execution_count": 3,
     "metadata": {},
     "output_type": "execute_result"
    }
   ],
   "source": [
    "# creating your first tuple\n",
    "\n",
    "tuple1 = ('disco', 10, 1.2)\n",
    "tuple1"
   ]
  },
  {
   "cell_type": "code",
   "execution_count": 9,
   "id": "609e0179-c3d6-4ed4-bb9d-d03f5f71fc4f",
   "metadata": {},
   "outputs": [
    {
     "data": {
      "text/plain": [
       "tuple"
      ]
     },
     "execution_count": 9,
     "metadata": {},
     "output_type": "execute_result"
    }
   ],
   "source": [
    "# print the type of tuple you created\n",
    "\n",
    "type(tuple1)"
   ]
  },
  {
   "cell_type": "code",
   "execution_count": 12,
   "id": "01d38994-fe6c-4b90-bffb-827bafa1b2e4",
   "metadata": {},
   "outputs": [
    {
     "name": "stdout",
     "output_type": "stream",
     "text": [
      "disco\n",
      "10\n",
      "1.2\n"
     ]
    }
   ],
   "source": [
    "# print the variable on each index like, normal indexing (0,1,2,....)\n",
    "\n",
    "print(tuple1[0])\n",
    "print(tuple1[1])\n",
    "print(tuple1[2])"
   ]
  },
  {
   "cell_type": "code",
   "execution_count": 10,
   "id": "f8ae2e3d-a484-45ac-b0a4-96888adbddf0",
   "metadata": {},
   "outputs": [
    {
     "name": "stdout",
     "output_type": "stream",
     "text": [
      "<class 'str'>\n",
      "<class 'int'>\n",
      "<class 'float'>\n"
     ]
    }
   ],
   "source": [
    "# print the type of value on each index\n",
    "\n",
    "print(type(tuple1[0]))\n",
    "print(type(tuple1[1]))\n",
    "print(type(tuple1[2]))"
   ]
  },
  {
   "cell_type": "code",
   "execution_count": 35,
   "id": "d97d9172-c038-458f-9f3a-acdfe2dec559",
   "metadata": {},
   "outputs": [
    {
     "name": "stdout",
     "output_type": "stream",
     "text": [
      "1.2\n",
      "10\n",
      "disco\n"
     ]
    }
   ],
   "source": [
    "# print the variable on each index like, negative indexing (-1, -2, -3,.....)\n",
    "\n",
    "print(tuple1[-1])\n",
    "print(tuple1[-2])\n",
    "print(tuple1[-3])"
   ]
  },
  {
   "cell_type": "code",
   "execution_count": 20,
   "id": "77d91b68-b378-44b0-b060-7c0c1023423a",
   "metadata": {},
   "outputs": [
    {
     "data": {
      "text/plain": [
       "('disco', 10, 1.2, 'hard rock', 10)"
      ]
     },
     "execution_count": 20,
     "metadata": {},
     "output_type": "execute_result"
    }
   ],
   "source": [
    "# Concatenate tuples (combining 2 tuples using + sign)\n",
    "\n",
    "tuple2 = tuple1 + ('hard rock', 10)\n",
    "tuple2"
   ]
  },
  {
   "cell_type": "code",
   "execution_count": 27,
   "id": "86104907-8509-423a-bd3e-09dbc38d965f",
   "metadata": {},
   "outputs": [
    {
     "data": {
      "text/plain": [
       "('disco', 10, 1.2)"
      ]
     },
     "execution_count": 27,
     "metadata": {},
     "output_type": "execute_result"
    }
   ],
   "source": [
    "# slicing tuples\n",
    "\n",
    "tuple2[0:3]"
   ]
  },
  {
   "cell_type": "code",
   "execution_count": 28,
   "id": "9d2a1e69-f421-4a90-ac94-41aa11dda0ba",
   "metadata": {},
   "outputs": [
    {
     "data": {
      "text/plain": [
       "5"
      ]
     },
     "execution_count": 28,
     "metadata": {},
     "output_type": "execute_result"
    }
   ],
   "source": [
    "# getting the length of a tuple\n",
    "\n",
    "len(tuple2)"
   ]
  },
  {
   "cell_type": "code",
   "execution_count": 29,
   "id": "9bc2eb81-d172-495c-b519-76b0f23fbf77",
   "metadata": {},
   "outputs": [],
   "source": [
    "# A sample ratings sorting tuple\n",
    "\n",
    "Ratings = (0, 9, 6, 5, 10, 8, 9, 6, 2)"
   ]
  },
  {
   "cell_type": "code",
   "execution_count": 32,
   "id": "6775dea8-970e-4329-9f8e-96964b2fa5f7",
   "metadata": {},
   "outputs": [
    {
     "data": {
      "text/plain": [
       "[0, 2, 5, 6, 6, 8, 9, 9, 10]"
      ]
     },
     "execution_count": 32,
     "metadata": {},
     "output_type": "execute_result"
    }
   ],
   "source": [
    "# sort the tuple\n",
    "\n",
    "Ratingssorted = sorted(Ratings)\n",
    "Ratingssorted"
   ]
  },
  {
   "cell_type": "code",
   "execution_count": 33,
   "id": "d7832fe3-e5b0-4d30-b35c-37307a656eb5",
   "metadata": {},
   "outputs": [],
   "source": [
    "# Create a nest tuple\n",
    "\n",
    "NestedT =(1, 2, (\"pop\", \"rock\") ,(3,4),(\"disco\",(1,2)))"
   ]
  },
  {
   "cell_type": "code",
   "execution_count": 40,
   "id": "6dfb349d-4c8f-4b61-8ff2-038d226df8ab",
   "metadata": {},
   "outputs": [
    {
     "name": "stdout",
     "output_type": "stream",
     "text": [
      "Element 0 of tuple: 1\n",
      "Element 1 of tuple: 2\n",
      "Element 2 of tuple: ('pop', 'rock')\n",
      "Element 3 of tuple: (3, 4)\n",
      "Element 4 of tuple: ('disco', (1, 2))\n"
     ]
    }
   ],
   "source": [
    "print('Element 0 of tuple:', NestedT[0])\n",
    "print('Element 1 of tuple:', NestedT[1])\n",
    "print('Element 2 of tuple:', NestedT[2])\n",
    "print('Element 3 of tuple:', NestedT[3])\n",
    "print('Element 4 of tuple:', NestedT[4])"
   ]
  },
  {
   "cell_type": "code",
   "execution_count": 43,
   "id": "5b048676-0312-4682-a998-c062e86af39e",
   "metadata": {},
   "outputs": [
    {
     "name": "stdout",
     "output_type": "stream",
     "text": [
      "i\n",
      "2\n",
      "k\n"
     ]
    }
   ],
   "source": [
    "# Access sub nest from main nest (e.g NestedT)\n",
    "\n",
    "print(NestedT[4][0][1])\n",
    "print(NestedT[4][1][1])\n",
    "print(NestedT[2][1][3])"
   ]
  },
  {
   "cell_type": "code",
   "execution_count": 45,
   "id": "c0df9b71-2ce2-4804-9511-dbe1aa5a6b04",
   "metadata": {},
   "outputs": [
    {
     "data": {
      "text/plain": [
       "1"
      ]
     },
     "execution_count": 45,
     "metadata": {},
     "output_type": "execute_result"
    }
   ],
   "source": [
    "# how to find index of 2\n",
    "\n",
    "NestedT.index(2)"
   ]
  },
  {
   "cell_type": "code",
   "execution_count": null,
   "id": "df9cdca3-8ff6-42e5-8efb-d891c0973b0f",
   "metadata": {},
   "outputs": [],
   "source": []
  },
  {
   "cell_type": "code",
   "execution_count": null,
   "id": "909d8338-2583-4cb2-b47c-5a8e02b16d72",
   "metadata": {},
   "outputs": [],
   "source": []
  }
 ],
 "metadata": {
  "kernelspec": {
   "display_name": "Python",
   "language": "python",
   "name": "conda-env-python-py"
  },
  "language_info": {
   "codemirror_mode": {
    "name": "ipython",
    "version": 3
   },
   "file_extension": ".py",
   "mimetype": "text/x-python",
   "name": "python",
   "nbconvert_exporter": "python",
   "pygments_lexer": "ipython3",
   "version": "3.6.13"
  }
 },
 "nbformat": 4,
 "nbformat_minor": 5
}
